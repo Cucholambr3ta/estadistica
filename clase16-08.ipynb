{
 "cells": [
  {
   "cell_type": "code",
   "execution_count": null,
   "id": "543ff446",
   "metadata": {},
   "outputs": [],
   "source": [
    "# Importar librería\n",
    "import pandas as pd\n",
    "\n",
    "# Crear una Serie de temperaturas\n",
    "temperaturas = pd.Series([20, 22, 19, 25, 23, 21])\n",
    "print(\"Serie de Temperaturas:\n",
    "\", temperaturas)\n",
    "\n",
    "# Acceder a un elemento por su índice\n",
    "print(f'\\nTemperatura del día 0: {temperaturas[0]}')"
   ]
  }
 ],
 "metadata": {
  "language_info": {
   "name": "python"
  }
 },
 "nbformat": 4,
 "nbformat_minor": 5
}
